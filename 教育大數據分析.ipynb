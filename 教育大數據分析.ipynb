{
  "nbformat": 4,
  "nbformat_minor": 0,
  "metadata": {
    "colab": {
      "provenance": [],
      "authorship_tag": "ABX9TyMiG+NX+rW13tJ40Q0Pbgbz",
      "include_colab_link": true
    },
    "kernelspec": {
      "name": "python3",
      "display_name": "Python 3"
    },
    "language_info": {
      "name": "python"
    }
  },
  "cells": [
    {
      "cell_type": "markdown",
      "metadata": {
        "id": "view-in-github",
        "colab_type": "text"
      },
      "source": [
        "<a href=\"https://colab.research.google.com/github/LittleBlackCap/edu-bigdata/blob/main/%E6%95%99%E8%82%B2%E5%A4%A7%E6%95%B8%E6%93%9A%E5%88%86%E6%9E%90.ipynb\" target=\"_parent\"><img src=\"https://colab.research.google.com/assets/colab-badge.svg\" alt=\"Open In Colab\"/></a>"
      ]
    },
    {
      "cell_type": "code",
      "source": [
        "from google.colab import files\n",
        "uploaded = files.upload()\n",
        "# 因為每次打開之前上傳的資料都會不見，所以加了這個，不知道有沒有用"
      ],
      "metadata": {
        "colab": {
          "base_uri": "https://localhost:8080/",
          "height": 58
        },
        "id": "KoS20itAS3vb",
        "outputId": "823fc01d-7e7a-40e4-b987-770ddbe5a09a"
      },
      "execution_count": null,
      "outputs": [
        {
          "output_type": "display_data",
          "data": {
            "text/plain": [
              "<IPython.core.display.HTML object>"
            ],
            "text/html": [
              "\n",
              "     <input type=\"file\" id=\"files-d059a640-3403-495d-8386-d5e77023a154\" name=\"files[]\" multiple disabled\n",
              "        style=\"border:none\" />\n",
              "     <output id=\"result-d059a640-3403-495d-8386-d5e77023a154\">\n",
              "      Upload widget is only available when the cell has been executed in the\n",
              "      current browser session. Please rerun this cell to enable.\n",
              "      </output>\n",
              "      <script>// Copyright 2017 Google LLC\n",
              "//\n",
              "// Licensed under the Apache License, Version 2.0 (the \"License\");\n",
              "// you may not use this file except in compliance with the License.\n",
              "// You may obtain a copy of the License at\n",
              "//\n",
              "//      http://www.apache.org/licenses/LICENSE-2.0\n",
              "//\n",
              "// Unless required by applicable law or agreed to in writing, software\n",
              "// distributed under the License is distributed on an \"AS IS\" BASIS,\n",
              "// WITHOUT WARRANTIES OR CONDITIONS OF ANY KIND, either express or implied.\n",
              "// See the License for the specific language governing permissions and\n",
              "// limitations under the License.\n",
              "\n",
              "/**\n",
              " * @fileoverview Helpers for google.colab Python module.\n",
              " */\n",
              "(function(scope) {\n",
              "function span(text, styleAttributes = {}) {\n",
              "  const element = document.createElement('span');\n",
              "  element.textContent = text;\n",
              "  for (const key of Object.keys(styleAttributes)) {\n",
              "    element.style[key] = styleAttributes[key];\n",
              "  }\n",
              "  return element;\n",
              "}\n",
              "\n",
              "// Max number of bytes which will be uploaded at a time.\n",
              "const MAX_PAYLOAD_SIZE = 100 * 1024;\n",
              "\n",
              "function _uploadFiles(inputId, outputId) {\n",
              "  const steps = uploadFilesStep(inputId, outputId);\n",
              "  const outputElement = document.getElementById(outputId);\n",
              "  // Cache steps on the outputElement to make it available for the next call\n",
              "  // to uploadFilesContinue from Python.\n",
              "  outputElement.steps = steps;\n",
              "\n",
              "  return _uploadFilesContinue(outputId);\n",
              "}\n",
              "\n",
              "// This is roughly an async generator (not supported in the browser yet),\n",
              "// where there are multiple asynchronous steps and the Python side is going\n",
              "// to poll for completion of each step.\n",
              "// This uses a Promise to block the python side on completion of each step,\n",
              "// then passes the result of the previous step as the input to the next step.\n",
              "function _uploadFilesContinue(outputId) {\n",
              "  const outputElement = document.getElementById(outputId);\n",
              "  const steps = outputElement.steps;\n",
              "\n",
              "  const next = steps.next(outputElement.lastPromiseValue);\n",
              "  return Promise.resolve(next.value.promise).then((value) => {\n",
              "    // Cache the last promise value to make it available to the next\n",
              "    // step of the generator.\n",
              "    outputElement.lastPromiseValue = value;\n",
              "    return next.value.response;\n",
              "  });\n",
              "}\n",
              "\n",
              "/**\n",
              " * Generator function which is called between each async step of the upload\n",
              " * process.\n",
              " * @param {string} inputId Element ID of the input file picker element.\n",
              " * @param {string} outputId Element ID of the output display.\n",
              " * @return {!Iterable<!Object>} Iterable of next steps.\n",
              " */\n",
              "function* uploadFilesStep(inputId, outputId) {\n",
              "  const inputElement = document.getElementById(inputId);\n",
              "  inputElement.disabled = false;\n",
              "\n",
              "  const outputElement = document.getElementById(outputId);\n",
              "  outputElement.innerHTML = '';\n",
              "\n",
              "  const pickedPromise = new Promise((resolve) => {\n",
              "    inputElement.addEventListener('change', (e) => {\n",
              "      resolve(e.target.files);\n",
              "    });\n",
              "  });\n",
              "\n",
              "  const cancel = document.createElement('button');\n",
              "  inputElement.parentElement.appendChild(cancel);\n",
              "  cancel.textContent = 'Cancel upload';\n",
              "  const cancelPromise = new Promise((resolve) => {\n",
              "    cancel.onclick = () => {\n",
              "      resolve(null);\n",
              "    };\n",
              "  });\n",
              "\n",
              "  // Wait for the user to pick the files.\n",
              "  const files = yield {\n",
              "    promise: Promise.race([pickedPromise, cancelPromise]),\n",
              "    response: {\n",
              "      action: 'starting',\n",
              "    }\n",
              "  };\n",
              "\n",
              "  cancel.remove();\n",
              "\n",
              "  // Disable the input element since further picks are not allowed.\n",
              "  inputElement.disabled = true;\n",
              "\n",
              "  if (!files) {\n",
              "    return {\n",
              "      response: {\n",
              "        action: 'complete',\n",
              "      }\n",
              "    };\n",
              "  }\n",
              "\n",
              "  for (const file of files) {\n",
              "    const li = document.createElement('li');\n",
              "    li.append(span(file.name, {fontWeight: 'bold'}));\n",
              "    li.append(span(\n",
              "        `(${file.type || 'n/a'}) - ${file.size} bytes, ` +\n",
              "        `last modified: ${\n",
              "            file.lastModifiedDate ? file.lastModifiedDate.toLocaleDateString() :\n",
              "                                    'n/a'} - `));\n",
              "    const percent = span('0% done');\n",
              "    li.appendChild(percent);\n",
              "\n",
              "    outputElement.appendChild(li);\n",
              "\n",
              "    const fileDataPromise = new Promise((resolve) => {\n",
              "      const reader = new FileReader();\n",
              "      reader.onload = (e) => {\n",
              "        resolve(e.target.result);\n",
              "      };\n",
              "      reader.readAsArrayBuffer(file);\n",
              "    });\n",
              "    // Wait for the data to be ready.\n",
              "    let fileData = yield {\n",
              "      promise: fileDataPromise,\n",
              "      response: {\n",
              "        action: 'continue',\n",
              "      }\n",
              "    };\n",
              "\n",
              "    // Use a chunked sending to avoid message size limits. See b/62115660.\n",
              "    let position = 0;\n",
              "    do {\n",
              "      const length = Math.min(fileData.byteLength - position, MAX_PAYLOAD_SIZE);\n",
              "      const chunk = new Uint8Array(fileData, position, length);\n",
              "      position += length;\n",
              "\n",
              "      const base64 = btoa(String.fromCharCode.apply(null, chunk));\n",
              "      yield {\n",
              "        response: {\n",
              "          action: 'append',\n",
              "          file: file.name,\n",
              "          data: base64,\n",
              "        },\n",
              "      };\n",
              "\n",
              "      let percentDone = fileData.byteLength === 0 ?\n",
              "          100 :\n",
              "          Math.round((position / fileData.byteLength) * 100);\n",
              "      percent.textContent = `${percentDone}% done`;\n",
              "\n",
              "    } while (position < fileData.byteLength);\n",
              "  }\n",
              "\n",
              "  // All done.\n",
              "  yield {\n",
              "    response: {\n",
              "      action: 'complete',\n",
              "    }\n",
              "  };\n",
              "}\n",
              "\n",
              "scope.google = scope.google || {};\n",
              "scope.google.colab = scope.google.colab || {};\n",
              "scope.google.colab._files = {\n",
              "  _uploadFiles,\n",
              "  _uploadFilesContinue,\n",
              "};\n",
              "})(self);\n",
              "</script> "
            ]
          },
          "metadata": {}
        }
      ]
    },
    {
      "cell_type": "code",
      "source": [
        "#1-1\n",
        "import pandas as pd\n",
        "\n",
        "df=pd.read_csv('/content/edu_bigdata_imp1.csv',encoding='big5',low_memory=False)\n",
        "\n",
        "df_filtered=df[df['PseudoID']==39]\n",
        "\n",
        "unique_values=df_filtered['dp001_review_sn'].unique()\n",
        "\n",
        "print(len(unique_values))\n",
        "\n",
        "\n"
      ],
      "metadata": {
        "id": "mKQhAmU-xLGh",
        "colab": {
          "base_uri": "https://localhost:8080/"
        },
        "outputId": "61e2d2e0-48d8-48f2-fff3-7c80b6683bb0"
      },
      "execution_count": 1,
      "outputs": [
        {
          "output_type": "stream",
          "name": "stdout",
          "text": [
            "12\n"
          ]
        }
      ]
    },
    {
      "cell_type": "code",
      "source": [
        "#1-2\n",
        "\n",
        "import pandas as pd\n",
        "\n",
        "df=pd.read_csv('/content/edu_bigdata_imp1.csv',encoding='big5',low_memory=False)\n",
        "\n",
        "df_filtered=df[df['PseudoID']==39]\n",
        "\n",
        "df_filtered=df_filtered.dropna(subset=['dp001_question_sn'])\n",
        "\n",
        "unique_values=df_filtered['dp001_question_sn'].unique()\n",
        "\n",
        "print(len(unique_values))\n",
        "\n",
        "\n"
      ],
      "metadata": {
        "id": "trNpzCpG3WV8",
        "outputId": "73e13379-f2e9-4a01-fd41-3043ee57e507",
        "colab": {
          "base_uri": "https://localhost:8080/"
        }
      },
      "execution_count": 3,
      "outputs": [
        {
          "output_type": "stream",
          "name": "stdout",
          "text": [
            "4\n"
          ]
        }
      ]
    },
    {
      "cell_type": "code",
      "source": [
        "# 2-1\n",
        "import pandas as pd\n",
        "\n",
        "df=pd.read_csv('/content/edu_bigdata_imp1.csv',encoding='big5',low_memory=False)\n",
        "\n",
        "df_filtered=df[df['PseudoID']==281]\n",
        "\n",
        "unique_values=df_filtered['dp001_video_item_sn'].unique()\n",
        "\n",
        "for i in unique_values:\n",
        "  df_filtered2=df[df['dp001_video_item_sn']==i]\n",
        "  print(i,\"-->\",df_filtered2['dp001_indicator'].unique()[0])"
      ],
      "metadata": {
        "id": "8BbNMaD-VcVL",
        "colab": {
          "base_uri": "https://localhost:8080/"
        },
        "outputId": "89ef612a-c124-4ccc-f1ab-27a3f577c415"
      },
      "execution_count": 8,
      "outputs": [
        {
          "output_type": "stream",
          "name": "stdout",
          "text": [
            "513.0 --> 111-3a-01\n",
            "10044.0 --> 111-3a-02\n",
            "1087.0 --> 5-n-10-S01\n"
          ]
        }
      ]
    },
    {
      "cell_type": "code",
      "source": [
        "# 2-2\n",
        "import pandas as pd\n",
        "\n",
        "df=pd.read_csv('/content/edu_bigdata_imp1.csv',encoding='big5',low_memory=False)\n",
        "\n",
        "df_filtered=df[df['PseudoID']==281]\n",
        "\n",
        "unique_values=df_filtered['dp001_prac_score_rate']\n",
        "\n",
        "list_count=[]\n",
        "for i in unique_values:\n",
        "  if i==100:\n",
        "    list_count.append(i)\n",
        "print(len(list_count))"
      ],
      "metadata": {
        "colab": {
          "base_uri": "https://localhost:8080/"
        },
        "id": "2oEJvr8px7qV",
        "outputId": "ebd9764e-99ed-448d-a8bc-c24e1da3df34"
      },
      "execution_count": 19,
      "outputs": [
        {
          "output_type": "stream",
          "name": "stdout",
          "text": [
            "346\n"
          ]
        }
      ]
    },
    {
      "cell_type": "code",
      "source": [
        "# 3-1\n",
        "import pandas as pd\n",
        "\n",
        "df=pd.read_csv('/content/edu_bigdata_imp1.csv',encoding='big5',low_memory=False)\n",
        "\n",
        "df_filtered=df[df['PseudoID']==71]\n",
        "\n",
        "unique_values=df_filtered['dp001_record_plus_view_action']\n",
        "\n",
        "list_count=[]\n",
        "for i in unique_values:\n",
        "  if i==\"paused\":\n",
        "    list_count.append(i)\n",
        "print(len(list_count))"
      ],
      "metadata": {
        "colab": {
          "base_uri": "https://localhost:8080/"
        },
        "id": "Y7BYvuiI2n7g",
        "outputId": "1a74b9b5-a95f-4bb7-a0ca-e58eff7980c8"
      },
      "execution_count": 20,
      "outputs": [
        {
          "output_type": "stream",
          "name": "stdout",
          "text": [
            "578\n"
          ]
        }
      ]
    },
    {
      "cell_type": "code",
      "source": [
        "# 3-2\n",
        "import pandas as pd\n",
        "\n",
        "df=pd.read_csv('/content/edu_bigdata_imp1.csv',encoding='big5',low_memory=False)\n",
        "\n",
        "filtered_values = df.loc[(df['PseudoID']==71) & (df['dp001_record_plus_view_action']==\"paused\") & (df['dp001_review_start_time']),['PseudoID','dp001_record_plus_view_action','dp001_review_start_time']]\n",
        "\n",
        "unique_values=filtered_values['dp001_review_start_time'].unique()\n",
        "\n",
        "set_date=set()\n",
        "for i in unique_values:\n",
        "  set_date.add(i[0:10])\n",
        "for i in sorted(set_date):\n",
        "  print(i)"
      ],
      "metadata": {
        "colab": {
          "base_uri": "https://localhost:8080/"
        },
        "id": "w3fyjM5o3bYC",
        "outputId": "1185806f-f819-46c6-b219-6fd03bfcb056"
      },
      "execution_count": 32,
      "outputs": [
        {
          "output_type": "stream",
          "name": "stdout",
          "text": [
            "2022-08-19\n",
            "2022-08-21\n",
            "2022-09-16\n"
          ]
        }
      ]
    },
    {
      "cell_type": "code",
      "source": [
        "# 4-1\n",
        "import pandas as pd\n",
        "\n",
        "df=pd.read_csv('/content/edu_bigdata_imp1.csv',encoding='big5',low_memory=False)\n",
        "\n",
        "videoID=df['dp001_review_sn'].unique()\n",
        "\n",
        "list_count=[]\n",
        "for i in videoID:\n",
        "  df_filtered=df[df['dp001_review_sn']==i]\n",
        "  unique_values=df_filtered['dp001_review_sn']\n",
        "  list_count.append(len(unique_values))\n",
        "\n",
        "print(int(videoID[list_count.index(max(list_count))]))\n",
        "print(\"(RREQ:\",max(list_count),\")\")"
      ],
      "metadata": {
        "colab": {
          "base_uri": "https://localhost:8080/"
        },
        "id": "btijep2tILyI",
        "outputId": "b8d82a73-1ef8-4e12-bf07-a0a100297e9d"
      },
      "execution_count": 40,
      "outputs": [
        {
          "output_type": "stream",
          "name": "stdout",
          "text": [
            "11043810\n",
            "(RREQ: 12410 )\n"
          ]
        }
      ]
    },
    {
      "cell_type": "code",
      "source": [
        "# 4-2\n",
        "import pandas as pd\n",
        "\n",
        "df=pd.read_csv('/content/edu_bigdata_imp1.csv',encoding='big5',low_memory=False)\n",
        "\n",
        "df_filtered=df[df['dp002_extensions_alignment']=='[\"十二年國民基本教育類\"]']\n",
        "\n",
        "unique_values=df_filtered['dp002_extensions_alignment']\n",
        "\n",
        "print(len(unique_values))"
      ],
      "metadata": {
        "colab": {
          "base_uri": "https://localhost:8080/"
        },
        "id": "wtfQN_4aLbyi",
        "outputId": "5305a8fa-0e9b-48c9-8ade-bd7754f3453c"
      },
      "execution_count": 51,
      "outputs": [
        {
          "output_type": "stream",
          "name": "stdout",
          "text": [
            "229\n"
          ]
        }
      ]
    },
    {
      "cell_type": "code",
      "source": [
        "# 4-3\n",
        "import pandas as pd\n",
        "\n",
        "df=pd.read_csv('/content/edu_bigdata_imp1.csv',encoding='big5',low_memory=False)\n",
        "\n",
        "verbID=df['dp002_verb_display_zh_TW'].unique()\n",
        "\n",
        "list_count=[]\n",
        "for i in verbID:\n",
        "  df_filtered=df[df['dp002_verb_display_zh_TW']==i]\n",
        "  unique_values=df_filtered['dp002_verb_display_zh_TW']\n",
        "  list_count.append(len(unique_values))\n",
        "\n",
        "for i in range(3):\n",
        "  print(verbID[list_count.index(max(list_count))])\n",
        "  list_count[list_count.index(max(list_count))]=0"
      ],
      "metadata": {
        "colab": {
          "base_uri": "https://localhost:8080/"
        },
        "id": "0yHwZybKN9dL",
        "outputId": "59435f52-e2e2-4cad-8721-0e7f98914ad4"
      },
      "execution_count": 45,
      "outputs": [
        {
          "output_type": "stream",
          "name": "stdout",
          "text": [
            "查看\n",
            "查詢參考\n",
            "下載\n"
          ]
        }
      ]
    },
    {
      "cell_type": "code",
      "source": [
        "# 4-4\n",
        "import pandas as pd\n",
        "\n",
        "df=pd.read_csv('/content/edu_bigdata_imp1.csv',encoding='big5',low_memory=False)\n",
        "\n",
        "df_filtered=df[df['dp002_extensions_alignment']=='[\"校園職業安全\"]']\n",
        "\n",
        "unique_values=df_filtered['dp002_extensions_alignment']\n",
        "\n",
        "print(len(unique_values))"
      ],
      "metadata": {
        "colab": {
          "base_uri": "https://localhost:8080/"
        },
        "id": "b8qFeDwNRKGZ",
        "outputId": "74e6943e-65f4-4986-e6e7-977921898e4d"
      },
      "execution_count": 50,
      "outputs": [
        {
          "output_type": "stream",
          "name": "stdout",
          "text": [
            "5375\n"
          ]
        }
      ]
    }
  ]
}